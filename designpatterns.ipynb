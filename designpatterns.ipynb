{
  "nbformat": 4,
  "nbformat_minor": 0,
  "metadata": {
    "colab": {
      "provenance": []
    },
    "kernelspec": {
      "name": "python3",
      "display_name": "Python 3"
    },
    "language_info": {
      "name": "python"
    }
  },
  "cells": [
    {
      "cell_type": "code",
      "source": [
        "!pip install pycodestyle\n",
        "!pip install --index-url https://test.pypi.org/simple/ nbpep8"
      ],
      "metadata": {
        "colab": {
          "base_uri": "https://localhost:8080/"
        },
        "id": "G1Z934pxjiFf",
        "outputId": "634cebc0-ed4d-4f96-fb3a-01c5f5e0b372"
      },
      "execution_count": null,
      "outputs": [
        {
          "output_type": "stream",
          "name": "stdout",
          "text": [
            "Looking in indexes: https://pypi.org/simple, https://us-python.pkg.dev/colab-wheels/public/simple/\n",
            "Requirement already satisfied: pycodestyle in /usr/local/lib/python3.8/dist-packages (2.10.0)\n",
            "Looking in indexes: https://test.pypi.org/simple/, https://us-python.pkg.dev/colab-wheels/public/simple/\n",
            "Requirement already satisfied: nbpep8 in /usr/local/lib/python3.8/dist-packages (0.0.15)\n"
          ]
        }
      ]
    },
    {
      "cell_type": "code",
      "source": [
        "from nbpep8.nbpep8 import pep8"
      ],
      "metadata": {
        "id": "Mit8isYEl_9a"
      },
      "execution_count": null,
      "outputs": []
    },
    {
      "cell_type": "markdown",
      "source": [
        "### Solid Design Principles\n",
        "\n",
        "## 1.Single Responsibilty Principle \n",
        "every class should only have one and one only Objective .\n",
        "every class should have one and only one reason to change. \n",
        "\n",
        "## 2.open for extension close for modification.\n",
        "you  should not modify a class , but you should extend it .\n",
        "\n",
        "open for extension , close for modification . \n",
        "\n",
        "you should inherit from a base class .\n",
        "\n",
        "## 3.Liskov Sub Protocol .\n",
        "\n",
        "if a class inherit the parent class , \n",
        "any instance of that class should not brake the father class .\n",
        "\n",
        "## 4.Interface Segregation . \n",
        "Instead of an interface with lots and lots of methods. \n",
        "have an Interface for every functionalty . \n",
        "\n",
        "## 5.Dependency Inversion \n",
        "High Level Modules should not Depend on Low Level Modules . \n"
      ],
      "metadata": {
        "id": "kpjisxw8ik8F"
      }
    },
    {
      "cell_type": "markdown",
      "source": [
        "Gamma Categorization \n",
        "\n",
        "Split all the patterns to three Categories :\n",
        "\n",
        "1.Creational \n",
        "\n",
        "2.Structural \n",
        "\n",
        "3.Behavioural"
      ],
      "metadata": {
        "id": "6zIbk0AXW1Xx"
      }
    },
    {
      "cell_type": "markdown",
      "source": [
        "### Builder\n",
        "- creational Pattern \n",
        "- some objects can be created in single initilzer call\n",
        "-some other objects require alot of ceremony to create \n",
        "- having an object with 10 init arguments is not best practice \n",
        "- instead we would do piecewise operation. \n",
        "- API for creation of an object step by step.\n",
        "*** The Following code is not best practice because it violates open close principle."
      ],
      "metadata": {
        "id": "5B-OidCcYgXr"
      }
    },
    {
      "cell_type": "markdown",
      "source": [],
      "metadata": {
        "id": "kN4q5BAT4sKE"
      }
    },
    {
      "cell_type": "code",
      "execution_count": null,
      "metadata": {
        "colab": {
          "base_uri": "https://localhost:8080/"
        },
        "id": "PJHlh0_1hMf5",
        "outputId": "65cd029b-d04b-45f1-e50b-206a45c22c32"
      },
      "outputs": [
        {
          "output_type": "stream",
          "name": "stdout",
          "text": [
            "morteza, lives in: california,with postalcode : 23232 , at comapany:Google in position : software engnieering, making:2000\n",
            "\n"
          ]
        }
      ],
      "source": [
        "class Person:\n",
        "\n",
        "    def __init__(self):\n",
        "        # living information\n",
        "        self.name = None\n",
        "        self.address = None\n",
        "        self.postal_code = None\n",
        "        # employee information\n",
        "        self.company = None\n",
        "        self.position = None\n",
        "        self.salary = None\n",
        "\n",
        "    def __str__(self):\n",
        "        return f'{self.name}, lives in: {self.address},'\\\n",
        "               f'with postalcode : {self.postal_code} , at comapany:' \\\n",
        "               f'{self.company} in position : {self.position}, making:' \\\n",
        "               f'{self.salary}'\n",
        "\n",
        "\n",
        "class PersonBuilder:\n",
        "\n",
        "    def __init__(self, person=Person()):\n",
        "        self.person = person\n",
        "\n",
        "    @property\n",
        "    def works(self):\n",
        "        return PersonJobBuilder(self.person)\n",
        "\n",
        "    @property\n",
        "    def lives(self):\n",
        "        return PersonLifeBuilder(self.person)\n",
        "\n",
        "    def __str__(self):\n",
        "        return str(self.person)\n",
        "\n",
        "\n",
        "class PersonLifeBuilder(PersonBuilder):\n",
        "\n",
        "    def __init__(self, person):\n",
        "        super().__init__(person)\n",
        "\n",
        "    def name(self, name):\n",
        "        self.person.name = name\n",
        "        return self\n",
        "\n",
        "    def lives_in(self, address):\n",
        "        self.person.address = address\n",
        "        return self\n",
        "\n",
        "    def postal_code(self, postal_code):\n",
        "        self.person.postal_code = postal_code\n",
        "        return self\n",
        "\n",
        "\n",
        "class PersonJobBuilder(PersonBuilder):\n",
        "\n",
        "    def __init__(self, person):\n",
        "        super().__init__(person)\n",
        "\n",
        "    def at(self, company_name):\n",
        "        self.person.company = company_name\n",
        "        return self\n",
        "\n",
        "    def making(self, salary):\n",
        "        self.person.salary = salary\n",
        "        return self\n",
        "\n",
        "    def in_position(self, position):\n",
        "        self.person.position = position\n",
        "        return self\n",
        "\n",
        "\n",
        "person_builder = PersonBuilder()\n",
        "print(person_builder.works.at('Google')\n",
        "                    .making(2000)\n",
        "                    .in_position(\"software engnieering\")\n",
        "                    .lives.name(\"morteza\")\n",
        "                    .lives_in(\"california\")\n",
        "                    .postal_code(\"23232\"))\n",
        "pep8(_ih)"
      ]
    },
    {
      "cell_type": "markdown",
      "source": [
        "### the following code does not violate open close principle. (Builder Inheritance)"
      ],
      "metadata": {
        "id": "sJhhrlq85IU8"
      }
    },
    {
      "cell_type": "code",
      "source": [
        "class PersonBuilder()"
      ],
      "metadata": {
        "id": "jHJWlvb85QOD"
      },
      "execution_count": null,
      "outputs": []
    },
    {
      "cell_type": "markdown",
      "source": [
        "### Factory Design Pattern \n",
        "- Object Creation maybe so convlouted . \n",
        "-  __init__ is not descriptive and there could be optional hell\n",
        "- factory is used for wholesale creation of an object"
      ],
      "metadata": {
        "id": "dDNnlLUb5jhE"
      }
    },
    {
      "cell_type": "code",
      "source": [
        "from math import cos, sin\n",
        "\n",
        "\n",
        "class Point:\n",
        "    def __init__(self, x=0, y=0) -> None:\n",
        "        self.x = x\n",
        "        self.y = y\n",
        "\n",
        "    def __str__(self) -> str:\n",
        "        return f'x:{self.x}, y:{self.y}'\n",
        "\n",
        "    class PointFactory:\n",
        "\n",
        "        def cartesian_factory(self, x: int, y: int) -> Point:\n",
        "            point = Point()\n",
        "            point.x = x\n",
        "            point.y = y\n",
        "            return point\n",
        "\n",
        "        def polar_factory(self, rho: float, theta: int) -> Point:\n",
        "            return Point(rho * cos(theta), rho * sin(theta))\n",
        "\n",
        "    factory = PointFactory()\n",
        "\n",
        "\n",
        "pep8(_ih)\n",
        "cartesian_point = Point.factory.cartesian_factory(2, 3)\n",
        "polar_point = Point.factory.polar_factory(23.0, 30)\n",
        "print(cartesian_point)\n",
        "print(polar_point)"
      ],
      "metadata": {
        "colab": {
          "base_uri": "https://localhost:8080/"
        },
        "id": "r4xDQ6-NAEPj",
        "outputId": "82104c5e-750f-4360-b952-79d05e453e90"
      },
      "execution_count": null,
      "outputs": [
        {
          "output_type": "stream",
          "name": "stdout",
          "text": [
            "\n",
            "x:2, y:3\n",
            "x:3.547783347414433, y:-22.724727354135823\n"
          ]
        }
      ]
    },
    {
      "cell_type": "markdown",
      "source": [
        "### Abstract Factory\n"
      ],
      "metadata": {
        "id": "tYKSpI-6O9sj"
      }
    },
    {
      "cell_type": "markdown",
      "source": [
        "#Prototype \n",
        "- make a copy of an existing object to use in our new code .\n",
        "- requires deepcopy support \n",
        "- make cloning convienet\n",
        "\n",
        "a partially or fully initalized Object that you clone . is a portotype .\n",
        "    "
      ],
      "metadata": {
        "id": "w6Pf0BRcawZb"
      }
    },
    {
      "cell_type": "code",
      "source": [
        "import copy\n",
        "\n",
        "\n",
        "class Address:\n",
        "\n",
        "    def __init__(self, street: str, suite: str, city: str) -> None:\n",
        "        self.street = street\n",
        "        self.suite = suite\n",
        "        self.city = city\n",
        "\n",
        "    def __str__(self):\n",
        "        return f\"{self.street},{self.city},{self.suite} room\"\n",
        "\n",
        "\n",
        "class Person:\n",
        "\n",
        "    def __init__(self, name: str, address: str) -> None:\n",
        "        self.name = name\n",
        "        self.address = address\n",
        "\n",
        "    def __str__(self) -> str:\n",
        "        return f\"{self.name} lives in {self.address} \"\n",
        "\n",
        "\n",
        "class PersonFactory:\n",
        "\n",
        "    karaj_employee = Person(\"\", Address(\"phase1\", \"\", \"karaj\"))\n",
        "    tehran_employee = Person(\"\", Address(\"SattarKhan\", \"\", \"tehran\"))\n",
        "\n",
        "    @staticmethod\n",
        "    def __new_employee(name: str, suite: str, employee: str) -> Person:\n",
        "        new_employee = copy.deepcopy(employee)\n",
        "        new_employee.name = name\n",
        "        new_employee.address.suite = suite\n",
        "        return new_employee\n",
        "\n",
        "    @staticmethod\n",
        "    def new_karaj_employee(name: str, suite: str) -> Person:\n",
        "        return PersonFactory.__new_employee(name,\n",
        "                                            suite,\n",
        "                                            PersonFactory.karaj_employee)\n",
        "\n",
        "    @staticmethod\n",
        "    def new_tehran_employee(name: str, suite: str) -> Person:\n",
        "        return PersonFactory.__new_employee(name,\n",
        "                                            suite,\n",
        "                                            PersonFactory.tehran_employee)\n",
        "\n",
        "\n",
        "factory = PersonFactory()\n",
        "morteza = factory.new_karaj_employee(\"morteza\", \"Large\")\n",
        "amene = factory.new_tehran_employee(\"amene\", \"Small\")\n",
        "print(morteza)\n",
        "print(amene)\n",
        "pep8(_ih)"
      ],
      "metadata": {
        "colab": {
          "base_uri": "https://localhost:8080/"
        },
        "id": "CKLmOM4MeGNW",
        "outputId": "8aa15bd6-b778-4a27-eb6c-8719c7266fc0"
      },
      "execution_count": null,
      "outputs": [
        {
          "output_type": "stream",
          "name": "stdout",
          "text": [
            "morteza lives in phase1,karaj,Large room \n",
            "amene lives in SattarKhan,tehran,Small room \n",
            "\n"
          ]
        }
      ]
    },
    {
      "cell_type": "markdown",
      "source": [
        "### Singleton \n",
        "- Some Say Singleton is An Anti Pattern \n",
        "- You Should only have one copy of an object once"
      ],
      "metadata": {
        "id": "AY3J6n9q5pnR"
      }
    },
    {
      "cell_type": "markdown",
      "source": [
        "### Singleton Decorator"
      ],
      "metadata": {
        "id": "rxUy65Zxr9dt"
      }
    },
    {
      "cell_type": "code",
      "source": [
        "def singleton(class_):\n",
        "    instances = {}\n",
        "\n",
        "    def get_instances(*args, **kwargs):\n",
        "        if class_ not in instances:\n",
        "            instances[class_] = class_(*args, **kwargs)\n",
        "        return instances[class_]\n",
        "\n",
        "    return get_instances\n",
        "\n",
        "\n",
        "@singleton\n",
        "class Database:\n",
        "\n",
        "    def __init__(self):\n",
        "        print(\"loading resoursces\")\n",
        "\n",
        "\n",
        "d1 = Database()\n",
        "d2 = Database()\n",
        "print(d1 == d2)\n",
        "pep8(_ih)"
      ],
      "metadata": {
        "colab": {
          "base_uri": "https://localhost:8080/"
        },
        "id": "-bTvrsZYsB72",
        "outputId": "092c28e0-698d-4df2-a4e8-212c7ea86565"
      },
      "execution_count": null,
      "outputs": [
        {
          "output_type": "stream",
          "name": "stdout",
          "text": [
            "{}\n",
            "loading resoursces\n",
            "{<class '__main__.Database'>: <__main__.Database object at 0x7fe573dd4910>}\n",
            "True\n",
            "\n"
          ]
        }
      ]
    },
    {
      "cell_type": "markdown",
      "source": [
        "### MonoState Design Pattern\n",
        "- a shared state is used between All instances of an object. "
      ],
      "metadata": {
        "id": "RG9Er2zm6FOp"
      }
    },
    {
      "cell_type": "code",
      "source": [
        "class CEO:\n",
        "\n",
        "    shared_state = {\n",
        "        \"name\" : \"morteza\" , \n",
        "        \"age\" : 24\n",
        "    }\n",
        "\n",
        "    def __init__(self):\n",
        "        self.__dict__ = self.shared_state\n",
        "    \n",
        "    def __str__(self):\n",
        "        return f\"{self.name} is {self.age} years old\"\n",
        "\n",
        "ceo1 = CEO()\n",
        "ceo2 = CEO()\n",
        "print(ceo1)\n",
        "ceo2.name = \"yasser\"\n",
        "print(ceo1)\n",
        "print(ceo2)"
      ],
      "metadata": {
        "colab": {
          "base_uri": "https://localhost:8080/"
        },
        "id": "oTo4YtgT6VXd",
        "outputId": "ec36448d-c856-4677-9dc5-da9045e32386"
      },
      "execution_count": 12,
      "outputs": [
        {
          "output_type": "stream",
          "name": "stdout",
          "text": [
            "morteza is 24 years old\n",
            "yasser is 24 years old\n",
            "yasser is 24 years old\n"
          ]
        }
      ]
    }
  ]
}